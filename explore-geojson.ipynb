{
 "cells": [
  {
   "cell_type": "code",
   "execution_count": 5,
   "id": "60823b19-bc5b-421e-9ae3-cbc8a6a9eceb",
   "metadata": {
    "tags": []
   },
   "outputs": [
    {
     "name": "stdout",
     "output_type": "stream",
     "text": [
      "Collecting datapackage\n",
      "  Downloading datapackage-1.15.2-py2.py3-none-any.whl (85 kB)\n",
      "\u001b[2K     \u001b[90m━━━━━━━━━━━━━━━━━━━━━━━━━━━━━━━━━━━━━━━━\u001b[0m \u001b[32m85.8/85.8 kB\u001b[0m \u001b[31m4.4 MB/s\u001b[0m eta \u001b[36m0:00:00\u001b[0m\n",
      "\u001b[?25hRequirement already satisfied: six>=1.10 in /srv/conda/envs/notebook/lib/python3.9/site-packages (from datapackage) (1.16.0)\n",
      "Requirement already satisfied: click>=6.7 in /srv/conda/envs/notebook/lib/python3.9/site-packages (from datapackage) (8.1.3)\n",
      "Collecting chardet>=3.0 (from datapackage)\n",
      "  Downloading chardet-5.1.0-py3-none-any.whl (199 kB)\n",
      "\u001b[2K     \u001b[90m━━━━━━━━━━━━━━━━━━━━━━━━━━━━━━━━━━━━━━\u001b[0m \u001b[32m199.1/199.1 kB\u001b[0m \u001b[31m15.1 MB/s\u001b[0m eta \u001b[36m0:00:00\u001b[0m\n",
      "\u001b[?25hRequirement already satisfied: requests>=2.8 in /srv/conda/envs/notebook/lib/python3.9/site-packages (from datapackage) (2.27.1)\n",
      "Requirement already satisfied: jsonschema>=2.5 in /srv/conda/envs/notebook/lib/python3.9/site-packages (from datapackage) (4.17.3)\n",
      "Collecting unicodecsv>=0.14 (from datapackage)\n",
      "  Downloading unicodecsv-0.14.1.tar.gz (10 kB)\n",
      "  Preparing metadata (setup.py) ... \u001b[?25ldone\n",
      "\u001b[?25hCollecting jsonpointer>=1.10 (from datapackage)\n",
      "  Downloading jsonpointer-2.4-py2.py3-none-any.whl (7.8 kB)\n",
      "Collecting tableschema>=1.12.1 (from datapackage)\n",
      "  Downloading tableschema-1.20.2-py2.py3-none-any.whl (68 kB)\n",
      "\u001b[2K     \u001b[90m━━━━━━━━━━━━━━━━━━━━━━━━━━━━━━━━━━━━━━━━\u001b[0m \u001b[32m68.9/68.9 kB\u001b[0m \u001b[31m7.3 MB/s\u001b[0m eta \u001b[36m0:00:00\u001b[0m\n",
      "\u001b[?25hCollecting tabulator>=1.29 (from datapackage)\n",
      "  Downloading tabulator-1.53.5-py2.py3-none-any.whl (72 kB)\n",
      "\u001b[2K     \u001b[90m━━━━━━━━━━━━━━━━━━━━━━━━━━━━━━━━━━━━━━━━\u001b[0m \u001b[32m72.1/72.1 kB\u001b[0m \u001b[31m8.0 MB/s\u001b[0m eta \u001b[36m0:00:00\u001b[0m\n",
      "\u001b[?25hRequirement already satisfied: attrs>=17.4.0 in /srv/conda/envs/notebook/lib/python3.9/site-packages (from jsonschema>=2.5->datapackage) (23.1.0)\n",
      "Requirement already satisfied: pyrsistent!=0.17.0,!=0.17.1,!=0.17.2,>=0.14.0 in /srv/conda/envs/notebook/lib/python3.9/site-packages (from jsonschema>=2.5->datapackage) (0.19.3)\n",
      "Requirement already satisfied: urllib3<1.27,>=1.21.1 in /srv/conda/envs/notebook/lib/python3.9/site-packages (from requests>=2.8->datapackage) (1.26.15)\n",
      "Requirement already satisfied: certifi>=2017.4.17 in /srv/conda/envs/notebook/lib/python3.9/site-packages (from requests>=2.8->datapackage) (2023.5.7)\n",
      "Requirement already satisfied: charset-normalizer~=2.0.0 in /srv/conda/envs/notebook/lib/python3.9/site-packages (from requests>=2.8->datapackage) (2.0.12)\n",
      "Requirement already satisfied: idna<4,>=2.5 in /srv/conda/envs/notebook/lib/python3.9/site-packages (from requests>=2.8->datapackage) (3.4)\n",
      "Requirement already satisfied: cached-property>=1.5 in /srv/conda/envs/notebook/lib/python3.9/site-packages (from tableschema>=1.12.1->datapackage) (1.5.2)\n",
      "Requirement already satisfied: python-dateutil>=2.4 in /srv/conda/envs/notebook/lib/python3.9/site-packages (from tableschema>=1.12.1->datapackage) (2.8.2)\n",
      "Collecting isodate>=0.5.4 (from tableschema>=1.12.1->datapackage)\n",
      "  Downloading isodate-0.6.1-py2.py3-none-any.whl (41 kB)\n",
      "\u001b[2K     \u001b[90m━━━━━━━━━━━━━━━━━━━━━━━━━━━━━━━━━━━━━━━━\u001b[0m \u001b[32m41.7/41.7 kB\u001b[0m \u001b[31m5.5 MB/s\u001b[0m eta \u001b[36m0:00:00\u001b[0m\n",
      "\u001b[?25hCollecting rfc3986>=1.1.0 (from tableschema>=1.12.1->datapackage)\n",
      "  Downloading rfc3986-2.0.0-py2.py3-none-any.whl (31 kB)\n",
      "Requirement already satisfied: boto3>=1.9 in /srv/conda/envs/notebook/lib/python3.9/site-packages (from tabulator>=1.29->datapackage) (1.26.76)\n",
      "Collecting ijson>=3.0.3 (from tabulator>=1.29->datapackage)\n",
      "  Downloading ijson-3.2.1-cp39-cp39-manylinux_2_17_x86_64.manylinux2014_x86_64.whl (112 kB)\n",
      "\u001b[2K     \u001b[90m━━━━━━━━━━━━━━━━━━━━━━━━━━━━━━━━━━━━━━\u001b[0m \u001b[32m112.3/112.3 kB\u001b[0m \u001b[31m10.7 MB/s\u001b[0m eta \u001b[36m0:00:00\u001b[0m\n",
      "\u001b[?25hCollecting jsonlines>=1.1 (from tabulator>=1.29->datapackage)\n",
      "  Downloading jsonlines-3.1.0-py3-none-any.whl (8.6 kB)\n",
      "Requirement already satisfied: sqlalchemy>=0.9.6 in /srv/conda/envs/notebook/lib/python3.9/site-packages (from tabulator>=1.29->datapackage) (2.0.13)\n",
      "Collecting linear-tsv>=1.0 (from tabulator>=1.29->datapackage)\n",
      "  Downloading linear-tsv-1.1.0.tar.gz (9.6 kB)\n",
      "  Preparing metadata (setup.py) ... \u001b[?25ldone\n",
      "\u001b[?25hCollecting xlrd>=1.0 (from tabulator>=1.29->datapackage)\n",
      "  Downloading xlrd-2.0.1-py2.py3-none-any.whl (96 kB)\n",
      "\u001b[2K     \u001b[90m━━━━━━━━━━━━━━━━━━━━━━━━━━━━━━━━━━━━━━━━\u001b[0m \u001b[32m96.5/96.5 kB\u001b[0m \u001b[31m6.8 MB/s\u001b[0m eta \u001b[36m0:00:00\u001b[0m\n",
      "\u001b[?25hCollecting openpyxl>=2.6 (from tabulator>=1.29->datapackage)\n",
      "  Downloading openpyxl-3.1.2-py2.py3-none-any.whl (249 kB)\n",
      "\u001b[2K     \u001b[90m━━━━━━━━━━━━━━━━━━━━━━━━━━━━━━━━━━━━━━\u001b[0m \u001b[32m250.0/250.0 kB\u001b[0m \u001b[31m27.6 MB/s\u001b[0m eta \u001b[36m0:00:00\u001b[0m\n",
      "\u001b[?25hRequirement already satisfied: botocore<1.30.0,>=1.29.76 in /srv/conda/envs/notebook/lib/python3.9/site-packages (from boto3>=1.9->tabulator>=1.29->datapackage) (1.29.76)\n",
      "Requirement already satisfied: jmespath<2.0.0,>=0.7.1 in /srv/conda/envs/notebook/lib/python3.9/site-packages (from boto3>=1.9->tabulator>=1.29->datapackage) (1.0.1)\n",
      "Requirement already satisfied: s3transfer<0.7.0,>=0.6.0 in /srv/conda/envs/notebook/lib/python3.9/site-packages (from boto3>=1.9->tabulator>=1.29->datapackage) (0.6.1)\n",
      "Collecting et-xmlfile (from openpyxl>=2.6->tabulator>=1.29->datapackage)\n",
      "  Downloading et_xmlfile-1.1.0-py3-none-any.whl (4.7 kB)\n",
      "Requirement already satisfied: typing-extensions>=4.2.0 in /srv/conda/envs/notebook/lib/python3.9/site-packages (from sqlalchemy>=0.9.6->tabulator>=1.29->datapackage) (4.5.0)\n",
      "Requirement already satisfied: greenlet!=0.4.17 in /srv/conda/envs/notebook/lib/python3.9/site-packages (from sqlalchemy>=0.9.6->tabulator>=1.29->datapackage) (2.0.2)\n",
      "Building wheels for collected packages: unicodecsv, linear-tsv\n",
      "  Building wheel for unicodecsv (setup.py) ... \u001b[?25ldone\n",
      "\u001b[?25h  Created wheel for unicodecsv: filename=unicodecsv-0.14.1-py3-none-any.whl size=10745 sha256=8cd11b12c66336dacdc8e01d14910a3fdfbb39cfab42690ccf2dc6ca04f07bfd\n",
      "  Stored in directory: /home/jovyan/.cache/pip/wheels/d8/c8/27/b237d3378d5c9ed25c2c63d9af1b3d5ccb99934f3dd030de87\n",
      "  Building wheel for linear-tsv (setup.py) ... \u001b[?25ldone\n",
      "\u001b[?25h  Created wheel for linear-tsv: filename=linear_tsv-1.1.0-py3-none-any.whl size=7382 sha256=7877b9431c2e74411d1479caca0c6feba70e8522cdd1a1f6c9a26fef5ae86937\n",
      "  Stored in directory: /home/jovyan/.cache/pip/wheels/b5/eb/b6/e409f80d7fec532e4240dda9562cad374257d2dd010b40cfff\n",
      "Successfully built unicodecsv linear-tsv\n",
      "Installing collected packages: unicodecsv, ijson, xlrd, rfc3986, linear-tsv, jsonpointer, jsonlines, isodate, et-xmlfile, chardet, openpyxl, tabulator, tableschema, datapackage\n",
      "Successfully installed chardet-5.1.0 datapackage-1.15.2 et-xmlfile-1.1.0 ijson-3.2.1 isodate-0.6.1 jsonlines-3.1.0 jsonpointer-2.4 linear-tsv-1.1.0 openpyxl-3.1.2 rfc3986-2.0.0 tableschema-1.20.2 tabulator-1.53.5 unicodecsv-0.14.1 xlrd-2.0.1\n",
      "Requirement already satisfied: geojson in /srv/conda/envs/notebook/lib/python3.9/site-packages (3.0.1)\n"
     ]
    }
   ],
   "source": [
    "!pip install datapackage\n",
    "!pip install geojson"
   ]
  },
  {
   "cell_type": "code",
   "execution_count": 2,
   "id": "9a1feb17-52d9-43a3-9668-40c4a4408554",
   "metadata": {
    "tags": []
   },
   "outputs": [],
   "source": [
    "import geojson\n",
    "import xarray as xr\n",
    "import numpy as np"
   ]
  },
  {
   "cell_type": "code",
   "execution_count": 6,
   "id": "b85ee28a-6c88-4cf6-b5e1-32beb7625f81",
   "metadata": {
    "tags": []
   },
   "outputs": [
    {
     "name": "stderr",
     "output_type": "stream",
     "text": [
      "/srv/conda/envs/notebook/lib/python3.9/site-packages/requests/__init__.py:102: RequestsDependencyWarning: urllib3 (1.26.15) or chardet (5.1.0)/charset_normalizer (2.0.12) doesn't match a supported version!\n",
      "  warnings.warn(\"urllib3 ({}) or chardet ({})/charset_normalizer ({}) doesn't match a supported \"\n"
     ]
    },
    {
     "name": "stdout",
     "output_type": "stream",
     "text": [
      "['validation_report', 'geo-countries_zip', 'countries']\n"
     ]
    }
   ],
   "source": [
    "from datapackage import Package\n",
    "\n",
    "package = Package('https://datahub.io/core/geo-countries/datapackage.json')\n",
    "\n",
    "# print list of all resources:\n",
    "print(package.resource_names)\n",
    "\n",
    "# print processed tabular data (if exists any)\n",
    "for resource in package.resources:\n",
    "    if resource.descriptor['datahub']['type'] == 'derived/csv':\n",
    "        print(resource.read())"
   ]
  },
  {
   "cell_type": "code",
   "execution_count": 8,
   "id": "ce102d6b-5bd1-4664-a3cd-18ee2df6fe96",
   "metadata": {
    "tags": []
   },
   "outputs": [],
   "source": [
    "with open('countries.geojson',) as f:\n",
    "    gj = geojson.load(f)"
   ]
  },
  {
   "cell_type": "code",
   "execution_count": 13,
   "id": "cf18dfc2-22c4-4ae3-aa78-1795acafbc9f",
   "metadata": {
    "tags": []
   },
   "outputs": [
    {
     "data": {
      "text/plain": [
       "{'ADMIN': 'Afghanistan', 'ISO_A3': 'AFG'}"
      ]
     },
     "execution_count": 13,
     "metadata": {},
     "output_type": "execute_result"
    }
   ],
   "source": [
    "gj['features'][1]['properties']"
   ]
  },
  {
   "cell_type": "code",
   "execution_count": 16,
   "id": "7270ab3e-e34b-45e6-9edd-b4b71017569b",
   "metadata": {
    "tags": []
   },
   "outputs": [
    {
     "name": "stdout",
     "output_type": "stream",
     "text": [
      "0 Aruba, 1 Afghanistan, 2 Angola, 3 Anguilla, 4 Albania, 5 Aland, 6 Andorra, 7 United Arab Emirates, 8 Argentina, 9 Armenia, 10 American Samoa, 11 Antarctica, 12 Ashmore and Cartier Islands, 13 French Southern and Antarctic Lands, 14 Antigua and Barbuda, 15 Australia, 16 Austria, 17 Azerbaijan, 18 Burundi, 19 Belgium, 20 Benin, 21 Burkina Faso, 22 Bangladesh, 23 Bulgaria, 24 Bahrain, 25 The Bahamas, 26 Bosnia and Herzegovina, 27 Bajo Nuevo Bank (Petrel Is.), 28 Saint Barthelemy, 29 Belarus, 30 Belize, 31 Bermuda, 32 Bolivia, 33 Brazil, 34 Barbados, 35 Brunei, 36 Bhutan, 37 Botswana, 38 Central African Republic, 39 Canada, 40 Switzerland, 41 Chile, 42 China, 43 Ivory Coast, 44 Clipperton Island, 45 Cameroon, 46 Cyprus No Mans Area, 47 Democratic Republic of the Congo, 48 Republic of Congo, 49 Cook Islands, 50 Colombia, 51 Comoros, 52 Cape Verde, 53 Costa Rica, 54 Coral Sea Islands, 55 Cuba, 56 Curaçao, 57 Cayman Islands, 58 Northern Cyprus, 59 Cyprus, 60 Czech Republic, 61 Germany, 62 Djibouti, 63 Dominica, 64 Denmark, 65 Dominican Republic, 66 Algeria, 67 Ecuador, 68 Egypt, 69 Eritrea, 70 Dhekelia Sovereign Base Area, 71 Spain, 72 Estonia, 73 Ethiopia, 74 Finland, 75 Fiji, 76 Falkland Islands, 77 France, 78 Faroe Islands, 79 Federated States of Micronesia, 80 Gabon, 81 United Kingdom, 82 Georgia, 83 Guernsey, 84 Ghana, 85 Gibraltar, 86 Guinea, 87 Gambia, 88 Guinea Bissau, 89 Equatorial Guinea, 90 Greece, 91 Grenada, 92 Greenland, 93 Guatemala, 94 Guam, 95 Guyana, 96 Hong Kong S.A.R., 97 Heard Island and McDonald Islands, 98 Honduras, 99 Croatia, 100 Haiti, 101 Hungary, 102 Indonesia, 103 Isle of Man, 104 India, 105 Indian Ocean Territories, 106 British Indian Ocean Territory, 107 Ireland, 108 Iran, 109 Iraq, 110 Iceland, 111 Israel, 112 Italy, 113 Jamaica, 114 Jersey, 115 Jordan, 116 Japan, 117 Baykonur Cosmodrome, 118 Siachen Glacier, 119 Kazakhstan, 120 Kenya, 121 Kyrgyzstan, 122 Cambodia, 123 Kiribati, 124 Saint Kitts and Nevis, 125 South Korea, 126 Kosovo, 127 Kuwait, 128 Laos, 129 Lebanon, 130 Liberia, 131 Libya, 132 Saint Lucia, 133 Liechtenstein, 134 Sri Lanka, 135 Lesotho, 136 Lithuania, 137 Luxembourg, 138 Latvia, 139 Macao S.A.R, 140 Saint Martin, 141 Morocco, 142 Monaco, 143 Moldova, 144 Madagascar, 145 Maldives, 146 Mexico, 147 Marshall Islands, 148 Macedonia, 149 Mali, 150 Malta, 151 Myanmar, 152 Montenegro, 153 Mongolia, 154 Northern Mariana Islands, 155 Mozambique, 156 Mauritania, 157 Montserrat, 158 Mauritius, 159 Malawi, 160 Malaysia, 161 Namibia, 162 New Caledonia, 163 Niger, 164 Norfolk Island, 165 Nigeria, 166 Nicaragua, 167 Niue, 168 Netherlands, 169 Norway, 170 Nepal, 171 Nauru, 172 New Zealand, 173 Oman, 174 Pakistan, 175 Panama, 176 Pitcairn Islands, 177 Peru, 178 Spratly Islands, 179 Philippines, 180 Palau, 181 Papua New Guinea, 182 Poland, 183 Puerto Rico, 184 North Korea, 185 Portugal, 186 Paraguay, 187 Palestine, 188 French Polynesia, 189 Qatar, 190 Romania, 191 Russia, 192 Rwanda, 193 Western Sahara, 194 Saudi Arabia, 195 Scarborough Reef, 196 Sudan, 197 South Sudan, 198 Senegal, 199 Serranilla Bank, 200 Singapore, 201 South Georgia and South Sandwich Islands, 202 Saint Helena, 203 Solomon Islands, 204 Sierra Leone, 205 El Salvador, 206 San Marino, 207 Somaliland, 208 Somalia, 209 Saint Pierre and Miquelon, 210 Republic of Serbia, 211 Sao Tome and Principe, 212 Suriname, 213 Slovakia, 214 Slovenia, 215 Sweden, 216 Swaziland, 217 Sint Maarten, 218 Seychelles, 219 Syria, 220 Turks and Caicos Islands, 221 Chad, 222 Togo, 223 Thailand, 224 Tajikistan, 225 Turkmenistan, 226 East Timor, 227 Tonga, 228 Trinidad and Tobago, 229 Tunisia, 230 Turkey, 231 Tuvalu, 232 Taiwan, 233 United Republic of Tanzania, 234 Uganda, 235 Ukraine, 236 United States Minor Outlying Islands, 237 Uruguay, 238 United States of America, 239 US Naval Base Guantanamo Bay, 240 Uzbekistan, 241 Vatican, 242 Saint Vincent and the Grenadines, 243 Venezuela, 244 British Virgin Islands, 245 United States Virgin Islands, 246 Vietnam, 247 Vanuatu, 248 Wallis and Futuna, 249 Akrotiri Sovereign Base Area, 250 Samoa, 251 Yemen, 252 South Africa, 253 Zambia, 254 Zimbabwe, "
     ]
    }
   ],
   "source": [
    "for i, country in enumerate(gj['features']):\n",
    "    print(i, country['properties']['ADMIN'], end = ', ') # get India at 104"
   ]
  },
  {
   "cell_type": "code",
   "execution_count": 17,
   "id": "efb7ba46-37c5-4989-9fd0-55c41591a6bf",
   "metadata": {
    "tags": []
   },
   "outputs": [],
   "source": [
    "india = gj['features'][104]"
   ]
  },
  {
   "cell_type": "code",
   "execution_count": 19,
   "id": "9a9e740d-151e-4bfd-b8a9-d3d13c5e700e",
   "metadata": {
    "tags": []
   },
   "outputs": [],
   "source": [
    "import geopandas as gpd"
   ]
  },
  {
   "cell_type": "code",
   "execution_count": 23,
   "id": "28815d8f-96e5-4bc3-990d-76f17ffa4743",
   "metadata": {
    "tags": []
   },
   "outputs": [],
   "source": [
    "ind = gpd.GeoDataFrame.from_features(gj)"
   ]
  },
  {
   "cell_type": "code",
   "execution_count": 24,
   "id": "1a092aee-f94a-4d70-8575-34adf420e025",
   "metadata": {
    "tags": []
   },
   "outputs": [
    {
     "data": {
      "text/html": [
       "<div>\n",
       "<style scoped>\n",
       "    .dataframe tbody tr th:only-of-type {\n",
       "        vertical-align: middle;\n",
       "    }\n",
       "\n",
       "    .dataframe tbody tr th {\n",
       "        vertical-align: top;\n",
       "    }\n",
       "\n",
       "    .dataframe thead th {\n",
       "        text-align: right;\n",
       "    }\n",
       "</style>\n",
       "<table border=\"1\" class=\"dataframe\">\n",
       "  <thead>\n",
       "    <tr style=\"text-align: right;\">\n",
       "      <th></th>\n",
       "      <th>geometry</th>\n",
       "      <th>ADMIN</th>\n",
       "      <th>ISO_A3</th>\n",
       "    </tr>\n",
       "  </thead>\n",
       "  <tbody>\n",
       "    <tr>\n",
       "      <th>0</th>\n",
       "      <td>POLYGON ((-69.99694 12.57758, -69.93639 12.531...</td>\n",
       "      <td>Aruba</td>\n",
       "      <td>ABW</td>\n",
       "    </tr>\n",
       "    <tr>\n",
       "      <th>1</th>\n",
       "      <td>POLYGON ((71.04980 38.40866, 71.05714 38.40903...</td>\n",
       "      <td>Afghanistan</td>\n",
       "      <td>AFG</td>\n",
       "    </tr>\n",
       "    <tr>\n",
       "      <th>2</th>\n",
       "      <td>MULTIPOLYGON (((11.73752 -16.69258, 11.73851 -...</td>\n",
       "      <td>Angola</td>\n",
       "      <td>AGO</td>\n",
       "    </tr>\n",
       "    <tr>\n",
       "      <th>3</th>\n",
       "      <td>MULTIPOLYGON (((-63.03767 18.21296, -63.09952 ...</td>\n",
       "      <td>Anguilla</td>\n",
       "      <td>AIA</td>\n",
       "    </tr>\n",
       "    <tr>\n",
       "      <th>4</th>\n",
       "      <td>POLYGON ((19.74777 42.57890, 19.74601 42.57993...</td>\n",
       "      <td>Albania</td>\n",
       "      <td>ALB</td>\n",
       "    </tr>\n",
       "    <tr>\n",
       "      <th>...</th>\n",
       "      <td>...</td>\n",
       "      <td>...</td>\n",
       "      <td>...</td>\n",
       "    </tr>\n",
       "    <tr>\n",
       "      <th>250</th>\n",
       "      <td>MULTIPOLYGON (((-171.57002 -13.93816, -171.564...</td>\n",
       "      <td>Samoa</td>\n",
       "      <td>WSM</td>\n",
       "    </tr>\n",
       "    <tr>\n",
       "      <th>251</th>\n",
       "      <td>MULTIPOLYGON (((53.30824 12.11839, 53.31027 12...</td>\n",
       "      <td>Yemen</td>\n",
       "      <td>YEM</td>\n",
       "    </tr>\n",
       "    <tr>\n",
       "      <th>252</th>\n",
       "      <td>MULTIPOLYGON (((37.86378 -46.94085, 37.83644 -...</td>\n",
       "      <td>South Africa</td>\n",
       "      <td>ZAF</td>\n",
       "    </tr>\n",
       "    <tr>\n",
       "      <th>253</th>\n",
       "      <td>POLYGON ((31.11984 -8.61663, 31.14102 -8.60619...</td>\n",
       "      <td>Zambia</td>\n",
       "      <td>ZMB</td>\n",
       "    </tr>\n",
       "    <tr>\n",
       "      <th>254</th>\n",
       "      <td>POLYGON ((30.01065 -15.64623, 30.05024 -15.640...</td>\n",
       "      <td>Zimbabwe</td>\n",
       "      <td>ZWE</td>\n",
       "    </tr>\n",
       "  </tbody>\n",
       "</table>\n",
       "<p>255 rows × 3 columns</p>\n",
       "</div>"
      ],
      "text/plain": [
       "                                              geometry         ADMIN ISO_A3\n",
       "0    POLYGON ((-69.99694 12.57758, -69.93639 12.531...         Aruba    ABW\n",
       "1    POLYGON ((71.04980 38.40866, 71.05714 38.40903...   Afghanistan    AFG\n",
       "2    MULTIPOLYGON (((11.73752 -16.69258, 11.73851 -...        Angola    AGO\n",
       "3    MULTIPOLYGON (((-63.03767 18.21296, -63.09952 ...      Anguilla    AIA\n",
       "4    POLYGON ((19.74777 42.57890, 19.74601 42.57993...       Albania    ALB\n",
       "..                                                 ...           ...    ...\n",
       "250  MULTIPOLYGON (((-171.57002 -13.93816, -171.564...         Samoa    WSM\n",
       "251  MULTIPOLYGON (((53.30824 12.11839, 53.31027 12...         Yemen    YEM\n",
       "252  MULTIPOLYGON (((37.86378 -46.94085, 37.83644 -...  South Africa    ZAF\n",
       "253  POLYGON ((31.11984 -8.61663, 31.14102 -8.60619...        Zambia    ZMB\n",
       "254  POLYGON ((30.01065 -15.64623, 30.05024 -15.640...      Zimbabwe    ZWE\n",
       "\n",
       "[255 rows x 3 columns]"
      ]
     },
     "execution_count": 24,
     "metadata": {},
     "output_type": "execute_result"
    }
   ],
   "source": [
    "ind"
   ]
  },
  {
   "cell_type": "code",
   "execution_count": 30,
   "id": "c649234c-a957-42ca-86cb-796afcf700e5",
   "metadata": {
    "tags": []
   },
   "outputs": [],
   "source": [
    "india = ind[ind['ADMIN']=='India']"
   ]
  },
  {
   "cell_type": "code",
   "execution_count": 31,
   "id": "8eb864aa-2c89-43a1-8d1e-71591b5c4c3e",
   "metadata": {
    "tags": []
   },
   "outputs": [
    {
     "data": {
      "text/plain": [
       "<Axes: >"
      ]
     },
     "execution_count": 31,
     "metadata": {},
     "output_type": "execute_result"
    },
    {
     "data": {
      "image/png": "[encoded data removed]",
      "text/plain": [
       "<Figure size 640x480 with 1 Axes>"
      ]
     },
     "metadata": {},
     "output_type": "display_data"
    }
   ],
   "source": [
    "india.plot()"
   ]
  },
  {
   "cell_type": "code",
   "execution_count": 32,
   "id": "214dae02-a1ef-4f39-beca-83d9faf2061c",
   "metadata": {
    "tags": []
   },
   "outputs": [
    {
     "data": {
      "text/html": [
       "<div>\n",
       "<style scoped>\n",
       "    .dataframe tbody tr th:only-of-type {\n",
       "        vertical-align: middle;\n",
       "    }\n",
       "\n",
       "    .dataframe tbody tr th {\n",
       "        vertical-align: top;\n",
       "    }\n",
       "\n",
       "    .dataframe thead th {\n",
       "        text-align: right;\n",
       "    }\n",
       "</style>\n",
       "<table border=\"1\" class=\"dataframe\">\n",
       "  <thead>\n",
       "    <tr style=\"text-align: right;\">\n",
       "      <th></th>\n",
       "      <th>geometry</th>\n",
       "      <th>ADMIN</th>\n",
       "      <th>ISO_A3</th>\n",
       "    </tr>\n",
       "  </thead>\n",
       "  <tbody>\n",
       "    <tr>\n",
       "      <th>104</th>\n",
       "      <td>MULTIPOLYGON (((93.85532 7.21418, 93.86500 7.2...</td>\n",
       "      <td>India</td>\n",
       "      <td>IND</td>\n",
       "    </tr>\n",
       "  </tbody>\n",
       "</table>\n",
       "</div>"
      ],
      "text/plain": [
       "                                              geometry  ADMIN ISO_A3\n",
       "104  MULTIPOLYGON (((93.85532 7.21418, 93.86500 7.2...  India    IND"
      ]
     },
     "execution_count": 32,
     "metadata": {},
     "output_type": "execute_result"
    }
   ],
   "source": [
    "india"
   ]
  },
  {
   "cell_type": "code",
   "execution_count": 36,
   "id": "656614e4-ac9d-49ae-99a4-c8f182b3ce7f",
   "metadata": {
    "tags": []
   },
   "outputs": [],
   "source": [
    "def extract_lat_lon(geometry):\n",
    "    lon, lat = geometry.centroid.coords[0]  # Extract centroid coordinates\n",
    "    return lat, lon\n",
    "\n",
    "# Apply the function to the geometry column and create new columns for latitude and longitude\n",
    "ind['latitude'], ind['longitude'] = zip(*ind['geometry'].apply(extract_lat_lon))\n",
    "\n",
    "# Access the latitude and longitude values\n",
    "latitude_values = ind['latitude'].values\n",
    "longitude_values = ind['longitude'].values"
   ]
  },
  {
   "cell_type": "code",
   "execution_count": 44,
   "id": "d625e142-c34d-4bfd-b5f0-258f453f1bc1",
   "metadata": {
    "tags": []
   },
   "outputs": [
    {
     "data": {
      "text/plain": [
       "104    MULTIPOLYGON (((93.85532 7.21418, 93.86500 7.2...\n",
       "Name: geometry, dtype: geometry"
      ]
     },
     "execution_count": 44,
     "metadata": {},
     "output_type": "execute_result"
    }
   ],
   "source": [
    "india['geometry']"
   ]
  },
  {
   "cell_type": "code",
   "execution_count": 47,
   "id": "6c445063-d2ac-451f-9cea-ece369590f16",
   "metadata": {
    "tags": []
   },
   "outputs": [],
   "source": [
    "ind_coords = india['geometry'].get_coordinates()"
   ]
  },
  {
   "cell_type": "code",
   "execution_count": 48,
   "id": "a4350998-ae80-4e22-900a-71953ee93d14",
   "metadata": {
    "tags": []
   },
   "outputs": [
    {
     "data": {
      "text/html": [
       "<div>\n",
       "<style scoped>\n",
       "    .dataframe tbody tr th:only-of-type {\n",
       "        vertical-align: middle;\n",
       "    }\n",
       "\n",
       "    .dataframe tbody tr th {\n",
       "        vertical-align: top;\n",
       "    }\n",
       "\n",
       "    .dataframe thead th {\n",
       "        text-align: right;\n",
       "    }\n",
       "</style>\n",
       "<table border=\"1\" class=\"dataframe\">\n",
       "  <thead>\n",
       "    <tr style=\"text-align: right;\">\n",
       "      <th></th>\n",
       "      <th>x</th>\n",
       "      <th>y</th>\n",
       "    </tr>\n",
       "  </thead>\n",
       "  <tbody>\n",
       "    <tr>\n",
       "      <th>104</th>\n",
       "      <td>93.855317</td>\n",
       "      <td>7.214179</td>\n",
       "    </tr>\n",
       "    <tr>\n",
       "      <th>104</th>\n",
       "      <td>93.865001</td>\n",
       "      <td>7.200670</td>\n",
       "    </tr>\n",
       "    <tr>\n",
       "      <th>104</th>\n",
       "      <td>93.870372</td>\n",
       "      <td>7.180569</td>\n",
       "    </tr>\n",
       "    <tr>\n",
       "      <th>104</th>\n",
       "      <td>93.876720</td>\n",
       "      <td>7.163560</td>\n",
       "    </tr>\n",
       "    <tr>\n",
       "      <th>104</th>\n",
       "      <td>93.880626</td>\n",
       "      <td>7.144273</td>\n",
       "    </tr>\n",
       "  </tbody>\n",
       "</table>\n",
       "</div>"
      ],
      "text/plain": [
       "             x         y\n",
       "104  93.855317  7.214179\n",
       "104  93.865001  7.200670\n",
       "104  93.870372  7.180569\n",
       "104  93.876720  7.163560\n",
       "104  93.880626  7.144273"
      ]
     },
     "execution_count": 48,
     "metadata": {},
     "output_type": "execute_result"
    }
   ],
   "source": [
    "# get coordinates that are within our boundaries\n",
    "ind_coords.head()"
   ]
  },
  {
   "cell_type": "code",
   "execution_count": 51,
   "id": "c82f9e2d-6e3b-446c-abc4-a18da3ae29fd",
   "metadata": {
    "tags": []
   },
   "outputs": [
    {
     "data": {
      "text/plain": [
       "pandas.core.frame.DataFrame"
      ]
     },
     "execution_count": 51,
     "metadata": {},
     "output_type": "execute_result"
    }
   ],
   "source": [
    "type(ind_coords)"
   ]
  },
  {
   "cell_type": "code",
   "execution_count": 53,
   "id": "70e81423-09d3-4d5e-9852-e38b9c93b6b3",
   "metadata": {
    "tags": []
   },
   "outputs": [],
   "source": [
    "df = ind_coords.query('60<x<80 and 5<y<25')"
   ]
  },
  {
   "cell_type": "code",
   "execution_count": 56,
   "id": "01ad1c22-2d0f-4296-b8a0-a2171e79cf61",
   "metadata": {
    "tags": []
   },
   "outputs": [
    {
     "data": {
      "text/plain": [
       "<Axes: xlabel='x', ylabel='y'>"
      ]
     },
     "execution_count": 56,
     "metadata": {},
     "output_type": "execute_result"
    },
    {
     "data": {
      "image/png": "[encoded data removed]",
      "text/plain": [
       "<Figure size 640x480 with 1 Axes>"
      ]
     },
     "metadata": {},
     "output_type": "display_data"
    }
   ],
   "source": [
    "df.plot.scatter(x='x', y='y')"
   ]
  },
  {
   "cell_type": "code",
   "execution_count": 58,
   "id": "e89a9406-e644-403b-92d9-d05fa784ea5e",
   "metadata": {
    "tags": []
   },
   "outputs": [],
   "source": [
    "df.to_csv('era5/india_bounds.csv')"
   ]
  },
  {
   "cell_type": "code",
   "execution_count": null,
   "id": "31c5e924-1a38-4fb4-999c-51cf8e67e138",
   "metadata": {},
   "outputs": [],
   "source": []
  }
 ],
 "metadata": {
  "kernelspec": {
   "display_name": "Python 3 (ipykernel)",
   "language": "python",
   "name": "python3"
  },
  "language_info": {
   "codemirror_mode": {
    "name": "ipython",
    "version": 3
   },
   "file_extension": ".py",
   "mimetype": "text/x-python",
   "name": "python",
   "nbconvert_exporter": "python",
   "pygments_lexer": "ipython3",
   "version": "3.9.16"
  }
 },
 "nbformat": 4,
 "nbformat_minor": 5
}
